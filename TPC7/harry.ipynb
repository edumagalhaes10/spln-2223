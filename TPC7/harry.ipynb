{
 "cells": [
  {
   "cell_type": "code",
   "execution_count": 1,
   "metadata": {},
   "outputs": [
    {
     "name": "stdout",
     "output_type": "stream",
     "text": [
      "['PT/harry_potter_e_o_calice_de_fogo-J._K._Rowling.txt', 'PT/OrdemFenix.txt', 'PT/Harry_Potter_e_a_camara_dos_segredos.txt', 'PT/harry_potter_e_o_enigma_do_principe-J._K._Rowling.txt', 'PT/RelequiasMorte.txt', 'PT/Harry_Potter_e_A_Pedra_Filosofal.txt', 'PT/Harry_Potter_e_a_pedra_filosofal-ptpt.txt']\n"
     ]
    }
   ],
   "source": [
    "#Imports and constants\n",
    "from gensim.models import Word2Vec\n",
    "from nltk.tokenize import sent_tokenize, word_tokenize\n",
    "from nltk.corpus import stopwords\n",
    "import string \n",
    "import os\n",
    "import codecs\n",
    "\n",
    "from gensim.utils import simple_preprocess # This lowercases, tokenizes, de-accents (optional). – the output are final tokens = unicode strings, that won’t be processed any further.\n",
    "\n",
    "books = []\n",
    "dir = \"PT\"\n",
    "\n",
    "for book in os.listdir(dir):\n",
    "    books.append(dir + \"/\" + book)\n",
    "    \n",
    "print(books)"
   ]
  },
  {
   "cell_type": "code",
   "execution_count": 2,
   "metadata": {},
   "outputs": [
    {
     "name": "stdout",
     "output_type": "stream",
     "text": [
      "PT/harry_potter_e_o_calice_de_fogo-J._K._Rowling.txt\n",
      "PT/OrdemFenix.txt\n",
      "PT/Harry_Potter_e_a_camara_dos_segredos.txt\n",
      "PT/harry_potter_e_o_enigma_do_principe-J._K._Rowling.txt\n",
      "PT/RelequiasMorte.txt\n",
      "PT/Harry_Potter_e_A_Pedra_Filosofal.txt\n",
      "PT/Harry_Potter_e_a_pedra_filosofal-ptpt.txt\n"
     ]
    },
    {
     "name": "stderr",
     "output_type": "stream",
     "text": [
      "IOPub data rate exceeded.\n",
      "The Jupyter server will temporarily stop sending output\n",
      "to the client in order to avoid crashing it.\n",
      "To change this limit, set the config variable\n",
      "`--ServerApp.iopub_data_rate_limit`.\n",
      "\n",
      "Current values:\n",
      "ServerApp.iopub_data_rate_limit=1000000.0 (bytes/sec)\n",
      "ServerApp.rate_limit_window=3.0 (secs)\n",
      "\n"
     ]
    }
   ],
   "source": [
    "#Preprocessing\n",
    "punct = string.punctuation +'\\n' +\"—\" + \"–\" + \"...\"\n",
    "stop_w = stopwords.words(\"portuguese\")\n",
    "\n",
    "sentences = []\n",
    "\n",
    "for book in books:\n",
    "    print(book)\n",
    "    #, encoding = 'latin1'\n",
    "    with codecs.open(book,'r') as f:\n",
    "        #f = open(book,'r')\n",
    "        txt = f.read()\n",
    "\n",
    "    sent_tokenized_text = sent_tokenize(txt)\n",
    "    \n",
    "    for sent in sent_tokenized_text:\n",
    "        words = word_tokenize(sent)\n",
    "        words = [w.lower() for w in words if (w.lower() not in punct and w.lower() not in stop_w) ]\n",
    "       \n",
    "        sentences.append(words) \n",
    "\n",
    "print(sentences)\n",
    "#print(sent_tokenized_text)\n"
   ]
  },
  {
   "cell_type": "code",
   "execution_count": 3,
   "metadata": {},
   "outputs": [],
   "source": [
    "model = Word2Vec(sentences, vector_size = 100, window = 5, min_count = 1, sg=1, epochs=5, workers=3)\n",
    "model.save(\"models/word2vec.model\")"
   ]
  },
  {
   "cell_type": "code",
   "execution_count": 4,
   "metadata": {},
   "outputs": [
    {
     "data": {
      "text/plain": [
       "[('garoto', 0.8269222974777222),\n",
       " ('tiago', 0.8022368550300598),\n",
       " ('amiga', 0.7898885011672974),\n",
       " ('novamente', 0.7714651823043823),\n",
       " ('xenofílio', 0.7609392404556274),\n",
       " ('cho', 0.7593002319335938),\n",
       " ('levantar', 0.7534002065658569),\n",
       " ('esperançoso', 0.7523450255393982),\n",
       " ('colin', 0.7500357031822205),\n",
       " ('sorrir', 0.7456057667732239)]"
      ]
     },
     "execution_count": 4,
     "metadata": {},
     "output_type": "execute_result"
    }
   ],
   "source": [
    "model.wv.most_similar(positive=[\"harry\"], topn=10)"
   ]
  },
  {
   "cell_type": "code",
   "execution_count": 5,
   "metadata": {},
   "outputs": [],
   "source": [
    "#model.wv.save(\"nome_modelo\")\n",
    "#http://projector.tensorflow.org/\n",
    "#python -m gensim.scripts.word2vec2tensor -i model_harry -o model_harry"
   ]
  }
 ],
 "metadata": {
  "kernelspec": {
   "display_name": "Python 3 (ipykernel)",
   "language": "python",
   "name": "python3"
  },
  "language_info": {
   "codemirror_mode": {
    "name": "ipython",
    "version": 3
   },
   "file_extension": ".py",
   "mimetype": "text/x-python",
   "name": "python",
   "nbconvert_exporter": "python",
   "pygments_lexer": "ipython3",
   "version": "3.9.13"
  }
 },
 "nbformat": 4,
 "nbformat_minor": 4
}
